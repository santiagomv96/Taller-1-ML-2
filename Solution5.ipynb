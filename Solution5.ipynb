{
 "cells": [
  {
   "cell_type": "code",
   "execution_count": 7,
   "metadata": {},
   "outputs": [],
   "source": [
    "import numpy as np\n",
    "import tensorflow as tf\n",
    "from tensorflow.keras.datasets import mnist\n",
    "from sklearn.linear_model import LogisticRegression\n",
    "from sklearn.metrics import confusion_matrix, accuracy_score\n",
    "\n"
   ]
  },
  {
   "cell_type": "code",
   "execution_count": 8,
   "metadata": {},
   "outputs": [],
   "source": [
    "# Get Mnist\n",
    "(X_train, y_train), (X_test, y_test) = mnist.load_data()\n",
    "\n",
    "# build masks \n",
    "masktrain = (y_train == 0) | (y_train == 8)\n",
    "masktest = (y_test == 0) | (y_test == 8)\n",
    "# Apply masks\n",
    "X_train = X_train[masktrain]\n",
    "y_train = y_train[masktrain]\n",
    "X_test1 = X_test[masktest]\n",
    "y_test1 = y_test[masktest]"
   ]
  },
  {
   "cell_type": "code",
   "execution_count": 9,
   "metadata": {},
   "outputs": [],
   "source": [
    "#Resahpe the dataset\n",
    "X_train = X_train.reshape(X_train.shape[0] , X_train.shape[1]* X_train.shape[2])  \n",
    "X_test1 = X_test1.reshape(X_test1.shape[0] , X_test1.shape[1]* X_test1.shape[2])  \n",
    "X_test = X_test.reshape(X_test.shape[0] , X_test.shape[1]* X_test.shape[2])  "
   ]
  },
  {
   "cell_type": "code",
   "execution_count": 10,
   "metadata": {},
   "outputs": [
    {
     "name": "stderr",
     "output_type": "stream",
     "text": [
      "c:\\Users\\Juliana\\AppData\\Local\\Programs\\Python\\Python311\\Lib\\site-packages\\sklearn\\linear_model\\_logistic.py:458: ConvergenceWarning: lbfgs failed to converge (status=1):\n",
      "STOP: TOTAL NO. of ITERATIONS REACHED LIMIT.\n",
      "\n",
      "Increase the number of iterations (max_iter) or scale the data as shown in:\n",
      "    https://scikit-learn.org/stable/modules/preprocessing.html\n",
      "Please also refer to the documentation for alternative solver options:\n",
      "    https://scikit-learn.org/stable/modules/linear_model.html#logistic-regression\n",
      "  n_iter_i = _check_optimize_result(\n"
     ]
    }
   ],
   "source": [
    "#build the logistic regression\n",
    "regressor = LogisticRegression(random_state=0)\n",
    "regressor.fit(X_train, y_train)\n",
    "y_pred = regressor.predict(X_test)\n",
    "y_pred1 = regressor.predict(X_test1)\n"
   ]
  },
  {
   "cell_type": "code",
   "execution_count": 11,
   "metadata": {},
   "outputs": [
    {
     "name": "stdout",
     "output_type": "stream",
     "text": [
      "[[ 973    0    0    0    0    0    0    0    7    0]\n",
      " [   3    0    0    0    0    0    0    0 1132    0]\n",
      " [ 474    0    0    0    0    0    0    0  558    0]\n",
      " [ 173    0    0    0    0    0    0    0  837    0]\n",
      " [ 118    0    0    0    0    0    0    0  864    0]\n",
      " [ 157    0    0    0    0    0    0    0  735    0]\n",
      " [ 558    0    0    0    0    0    0    0  400    0]\n",
      " [ 262    0    0    0    0    0    0    0  766    0]\n",
      " [  15    0    0    0    0    0    0    0  959    0]\n",
      " [  57    0    0    0    0    0    0    0  952    0]]\n",
      "Accuracy:  0.1932\n"
     ]
    }
   ],
   "source": [
    "#Evaluate whit all numbers\n",
    "cm = confusion_matrix(y_test, y_pred)\n",
    "print(cm)\n",
    "print('Accuracy: ', accuracy_score(y_test, y_pred))"
   ]
  },
  {
   "cell_type": "code",
   "execution_count": 12,
   "metadata": {},
   "outputs": [
    {
     "name": "stdout",
     "output_type": "stream",
     "text": [
      "[[973   7]\n",
      " [ 15 959]]\n",
      "Accuracy:  0.9887410440122825\n"
     ]
    }
   ],
   "source": [
    "#Evaluate whit not numbers to 8\n",
    "cm2 = confusion_matrix(y_test1, y_pred1)\n",
    "print(cm2)\n",
    "print('Accuracy: ', accuracy_score(y_test1, y_pred1))"
   ]
  },
  {
   "attachments": {},
   "cell_type": "markdown",
   "metadata": {},
   "source": [
    "the accuracy when we try de data known for the model is very high, it allows to belive in its predictions, but whr we try all the numbers de score is not aporpiate for this situation, is not a low score, but it does not understain a number so it makes nonconfiable model"
   ]
  }
 ],
 "metadata": {
  "kernelspec": {
   "display_name": "Python 3",
   "language": "python",
   "name": "python3"
  },
  "language_info": {
   "codemirror_mode": {
    "name": "ipython",
    "version": 3
   },
   "file_extension": ".py",
   "mimetype": "text/x-python",
   "name": "python",
   "nbconvert_exporter": "python",
   "pygments_lexer": "ipython3",
   "version": "3.11.2"
  },
  "orig_nbformat": 4
 },
 "nbformat": 4,
 "nbformat_minor": 2
}
