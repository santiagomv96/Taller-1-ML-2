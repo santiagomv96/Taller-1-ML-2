{
 "cells": [
  {
   "cell_type": "code",
   "execution_count": null,
   "metadata": {},
   "outputs": [],
   "source": [
    "from PIL import Image\n",
    "import matplotlib.pyplot as plt\n",
    "import numpy as np\n",
    "\n",
    "# Abre la imagen en Python\n",
    "img = Image.open(\"C:/Users/Juliana/Downloads/Imagen.jpeg\")\n",
    "\n",
    "# Convierte la imagen a escala de grises\n",
    "img = img.convert(\"L\")\n",
    "\n",
    "# Redimensiona la imagen a 256 x 256\n",
    "img = img.resize((256, 256))\n",
    "\n",
    "# Plotea la imagen redimensionada\n",
    "plt.imshow(img, cmap=\"gray\")\n",
    "plt.show()\n",
    "\n",
    "# Convierte la imagen a un arreglo de numpy\n",
    "img_arr = np.array(img)\n",
    "\n",
    "# Calcula el promedio del arreglo\n",
    "promedio = np.mean(img_arr)\n",
    "\n",
    "# Imprime el promedio de la imagen\n",
    "print(\"El promedio de la imagen es:\", promedio)\n"
   ]
  }
 ],
 "metadata": {
  "kernelspec": {
   "display_name": "Python 3",
   "language": "python",
   "name": "python3"
  },
  "language_info": {
   "name": "python",
   "version": "3.11.2"
  },
  "orig_nbformat": 4
 },
 "nbformat": 4,
 "nbformat_minor": 2
}
